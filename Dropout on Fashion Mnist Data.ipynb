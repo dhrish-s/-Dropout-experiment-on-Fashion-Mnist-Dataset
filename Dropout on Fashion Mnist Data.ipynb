{
 "cells": [
  {
   "cell_type": "code",
   "execution_count": 5,
   "id": "557f1d96",
   "metadata": {},
   "outputs": [],
   "source": [
    "import tensorflow as tf\n",
    "import pandas as pd\n",
    "import numpy as np\n",
    "from tensorflow import keras\n",
    "from tensorflow.keras.models import Sequential\n",
    "from tensorflow.keras.layers import Dense,Dropout\n",
    "from tensorflow.keras.optimizers import Adam"
   ]
  },
  {
   "cell_type": "code",
   "execution_count": 8,
   "id": "806d8023",
   "metadata": {},
   "outputs": [
    {
     "name": "stdout",
     "output_type": "stream",
     "text": [
      "Downloading data from https://storage.googleapis.com/tensorflow/tf-keras-datasets/train-images-idx3-ubyte.gz\n",
      "26421880/26421880 [==============================] - 48s 2us/step\n",
      "Downloading data from https://storage.googleapis.com/tensorflow/tf-keras-datasets/t10k-labels-idx1-ubyte.gz\n",
      "5148/5148 [==============================] - 0s 0s/step\n",
      "Downloading data from https://storage.googleapis.com/tensorflow/tf-keras-datasets/t10k-images-idx3-ubyte.gz\n",
      "4422102/4422102 [==============================] - 2s 0us/step\n"
     ]
    }
   ],
   "source": [
    "from keras.datasets import fashion_mnist\n",
    "(train_images, train_labels), (test_images, test_labels) = fashion_mnist.load_data()"
   ]
  },
  {
   "cell_type": "code",
   "execution_count": 9,
   "id": "0aafa49c",
   "metadata": {},
   "outputs": [
    {
     "data": {
      "text/plain": [
       "array([[9],\n",
       "       [0],\n",
       "       [0],\n",
       "       ...,\n",
       "       [3],\n",
       "       [0],\n",
       "       [5]], dtype=uint8)"
      ]
     },
     "execution_count": 9,
     "metadata": {},
     "output_type": "execute_result"
    }
   ],
   "source": [
    "train_labels.reshape(len(train_labels),1)"
   ]
  },
  {
   "cell_type": "code",
   "execution_count": 10,
   "id": "1d825c3c",
   "metadata": {},
   "outputs": [],
   "source": [
    "from keras.utils import to_categorical\n",
    "train_images=train_images.reshape((60000,28*28))\n",
    "train_images=train_images.astype('float32')/255\n",
    "test_images=test_images.reshape((10000,28*28))\n",
    "test_images=test_images.astype('float32')/255\n",
    "train_labels=to_categorical(train_labels)\n",
    "test_labels=to_categorical(test_labels)\n"
   ]
  },
  {
   "cell_type": "code",
   "execution_count": 11,
   "id": "15781953",
   "metadata": {},
   "outputs": [
    {
     "name": "stdout",
     "output_type": "stream",
     "text": [
      "Epoch 1/5\n",
      "469/469 [==============================] - 128s 270ms/step - loss: 0.6615 - accuracy: 0.7617\n",
      "Epoch 2/5\n",
      "469/469 [==============================] - 146s 310ms/step - loss: 0.5097 - accuracy: 0.8194\n",
      "Epoch 3/5\n",
      "469/469 [==============================] - 130s 278ms/step - loss: 0.4806 - accuracy: 0.8296\n",
      "Epoch 4/5\n",
      "469/469 [==============================] - 117s 250ms/step - loss: 0.4618 - accuracy: 0.8361\n",
      "Epoch 5/5\n",
      "469/469 [==============================] - 122s 261ms/step - loss: 0.4554 - accuracy: 0.8383\n",
      "313/313 [==============================] - 5s 15ms/step - loss: 0.4024 - accuracy: 0.8601\n",
      "Test Accuracy: 0.8600999712944031\n"
     ]
    }
   ],
   "source": [
    "network=Sequential()\n",
    "# 4  HIDDEN LAYERS AND 10 OUTPUTS\n",
    "network.add(Dense(784,input_dim=train_images.shape[1],activation='relu'))\n",
    "network.add(Dropout(0.5))\n",
    "network.add(Dense(2048,activation='relu'))\n",
    "network.add(Dropout(0.5))\n",
    "network.add((Dense(2048,activation='relu')))\n",
    "network.add(Dropout(0.5))\n",
    "network.add((Dense(2048,activation='relu')))\n",
    "network.add(Dropout(0.5))\n",
    "network.add(Dense(10,activation='softmax'))\n",
    "\n",
    "network.compile(optimizer='adam',loss='categorical_crossentropy',metrics=['accuracy'])\n",
    "\n",
    "network.fit(train_images,train_labels,epochs=5,batch_size=128)\n",
    "\n",
    "test_loss,test_accuracy=network.evaluate(test_images,test_labels)\n",
    "\n",
    "print(\"Test Accuracy:\",test_accuracy)\n"
   ]
  },
  {
   "cell_type": "code",
   "execution_count": 12,
   "id": "f03ef9f7",
   "metadata": {},
   "outputs": [
    {
     "name": "stdout",
     "output_type": "stream",
     "text": [
      "313/313 [==============================] - 5s 15ms/step\n"
     ]
    }
   ],
   "source": [
    "pred=network.predict(test_images)"
   ]
  },
  {
   "cell_type": "code",
   "execution_count": 13,
   "id": "98d69ba7",
   "metadata": {},
   "outputs": [
    {
     "data": {
      "text/plain": [
       "(10000, 784)"
      ]
     },
     "execution_count": 13,
     "metadata": {},
     "output_type": "execute_result"
    }
   ],
   "source": [
    "test_images.shape"
   ]
  },
  {
   "cell_type": "code",
   "execution_count": 14,
   "id": "f32ba799",
   "metadata": {},
   "outputs": [
    {
     "data": {
      "text/plain": [
       "array([0., 0., 0., 0., 0., 0., 0., 0., 0., 1.], dtype=float32)"
      ]
     },
     "execution_count": 14,
     "metadata": {},
     "output_type": "execute_result"
    }
   ],
   "source": [
    "np.round(pred[0])"
   ]
  },
  {
   "cell_type": "code",
   "execution_count": 15,
   "id": "1fba071b",
   "metadata": {},
   "outputs": [
    {
     "name": "stdout",
     "output_type": "stream",
     "text": [
      "Downloading data from https://storage.googleapis.com/tensorflow/tf-keras-datasets/mnist.npz\n",
      "11490434/11490434 [==============================] - 2s 0us/step\n"
     ]
    }
   ],
   "source": [
    "(train_img, trainl), (test_img, test_l) = mnist.load_data()"
   ]
  },
  {
   "cell_type": "code",
   "execution_count": 16,
   "id": "4f0383bd",
   "metadata": {},
   "outputs": [
    {
     "data": {
      "text/plain": [
       "array([[[0, 0, 0, ..., 0, 0, 0],\n",
       "        [0, 0, 0, ..., 0, 0, 0],\n",
       "        [0, 0, 0, ..., 0, 0, 0],\n",
       "        ...,\n",
       "        [0, 0, 0, ..., 0, 0, 0],\n",
       "        [0, 0, 0, ..., 0, 0, 0],\n",
       "        [0, 0, 0, ..., 0, 0, 0]],\n",
       "\n",
       "       [[0, 0, 0, ..., 0, 0, 0],\n",
       "        [0, 0, 0, ..., 0, 0, 0],\n",
       "        [0, 0, 0, ..., 0, 0, 0],\n",
       "        ...,\n",
       "        [0, 0, 0, ..., 0, 0, 0],\n",
       "        [0, 0, 0, ..., 0, 0, 0],\n",
       "        [0, 0, 0, ..., 0, 0, 0]],\n",
       "\n",
       "       [[0, 0, 0, ..., 0, 0, 0],\n",
       "        [0, 0, 0, ..., 0, 0, 0],\n",
       "        [0, 0, 0, ..., 0, 0, 0],\n",
       "        ...,\n",
       "        [0, 0, 0, ..., 0, 0, 0],\n",
       "        [0, 0, 0, ..., 0, 0, 0],\n",
       "        [0, 0, 0, ..., 0, 0, 0]],\n",
       "\n",
       "       ...,\n",
       "\n",
       "       [[0, 0, 0, ..., 0, 0, 0],\n",
       "        [0, 0, 0, ..., 0, 0, 0],\n",
       "        [0, 0, 0, ..., 0, 0, 0],\n",
       "        ...,\n",
       "        [0, 0, 0, ..., 0, 0, 0],\n",
       "        [0, 0, 0, ..., 0, 0, 0],\n",
       "        [0, 0, 0, ..., 0, 0, 0]],\n",
       "\n",
       "       [[0, 0, 0, ..., 0, 0, 0],\n",
       "        [0, 0, 0, ..., 0, 0, 0],\n",
       "        [0, 0, 0, ..., 0, 0, 0],\n",
       "        ...,\n",
       "        [0, 0, 0, ..., 0, 0, 0],\n",
       "        [0, 0, 0, ..., 0, 0, 0],\n",
       "        [0, 0, 0, ..., 0, 0, 0]],\n",
       "\n",
       "       [[0, 0, 0, ..., 0, 0, 0],\n",
       "        [0, 0, 0, ..., 0, 0, 0],\n",
       "        [0, 0, 0, ..., 0, 0, 0],\n",
       "        ...,\n",
       "        [0, 0, 0, ..., 0, 0, 0],\n",
       "        [0, 0, 0, ..., 0, 0, 0],\n",
       "        [0, 0, 0, ..., 0, 0, 0]]], dtype=uint8)"
      ]
     },
     "execution_count": 16,
     "metadata": {},
     "output_type": "execute_result"
    }
   ],
   "source": [
    "train_img"
   ]
  },
  {
   "cell_type": "code",
   "execution_count": 17,
   "id": "8e52fdb7",
   "metadata": {},
   "outputs": [
    {
     "data": {
      "text/plain": [
       "array([0., 0., 0., 0., 0., 0., 0., 0., 0., 1.], dtype=float32)"
      ]
     },
     "execution_count": 17,
     "metadata": {},
     "output_type": "execute_result"
    }
   ],
   "source": [
    "test_labels[0]"
   ]
  },
  {
   "cell_type": "code",
   "execution_count": 18,
   "id": "5abff6a5",
   "metadata": {},
   "outputs": [],
   "source": [
    "my_array = np.zeros((3, 4, 2))"
   ]
  },
  {
   "cell_type": "code",
   "execution_count": 19,
   "id": "e0b834ad",
   "metadata": {},
   "outputs": [
    {
     "data": {
      "text/plain": [
       "array([[[0., 0.],\n",
       "        [0., 0.],\n",
       "        [0., 0.],\n",
       "        [0., 0.]],\n",
       "\n",
       "       [[0., 0.],\n",
       "        [0., 0.],\n",
       "        [0., 0.],\n",
       "        [0., 0.]],\n",
       "\n",
       "       [[0., 0.],\n",
       "        [0., 0.],\n",
       "        [0., 0.],\n",
       "        [0., 0.]]])"
      ]
     },
     "execution_count": 19,
     "metadata": {},
     "output_type": "execute_result"
    }
   ],
   "source": [
    "my_array"
   ]
  },
  {
   "cell_type": "code",
   "execution_count": 20,
   "id": "b7436ba1",
   "metadata": {},
   "outputs": [
    {
     "data": {
      "text/plain": [
       "array([[0., 0., 0., 0., 0., 0., 0., 0.],\n",
       "       [0., 0., 0., 0., 0., 0., 0., 0.],\n",
       "       [0., 0., 0., 0., 0., 0., 0., 0.]])"
      ]
     },
     "execution_count": 20,
     "metadata": {},
     "output_type": "execute_result"
    }
   ],
   "source": [
    "a=my_array.reshape(3,4*2)\n",
    "a"
   ]
  },
  {
   "cell_type": "code",
   "execution_count": 21,
   "id": "afc54d12",
   "metadata": {},
   "outputs": [
    {
     "data": {
      "text/plain": [
       "array([[1.36328119e-04, 8.32377773e-05, 6.02680157e-05, ...,\n",
       "        1.45214692e-01, 1.34545646e-03, 8.21546674e-01],\n",
       "       [3.14417266e-04, 7.80981190e-06, 9.73776996e-01, ...,\n",
       "        1.73588099e-09, 2.15936270e-05, 6.73882772e-09],\n",
       "       [1.70841698e-17, 1.00000000e+00, 7.65783455e-21, ...,\n",
       "        4.86552265e-34, 1.30977184e-20, 4.78082618e-30],\n",
       "       ...,\n",
       "       [5.37501307e-07, 1.03723662e-11, 1.94883114e-07, ...,\n",
       "        3.59395050e-13, 9.99997973e-01, 2.91644882e-13],\n",
       "       [1.10530904e-10, 1.00000000e+00, 1.26919623e-12, ...,\n",
       "        4.65047564e-20, 3.66970516e-12, 8.69825578e-18],\n",
       "       [1.27816456e-05, 9.87330623e-07, 5.10472910e-06, ...,\n",
       "        3.90253104e-02, 5.86176699e-04, 2.46173167e-03]], dtype=float32)"
      ]
     },
     "execution_count": 21,
     "metadata": {},
     "output_type": "execute_result"
    }
   ],
   "source": [
    "pred"
   ]
  },
  {
   "cell_type": "code",
   "execution_count": null,
   "id": "571207c5",
   "metadata": {},
   "outputs": [
    {
     "name": "stdout",
     "output_type": "stream",
     "text": [
      "Epoch 1/60\n",
      "469/469 [==============================] - 245s 523ms/step - loss: 0.4426 - accuracy: 0.8439 - val_loss: 0.4066 - val_accuracy: 0.8570\n",
      "Epoch 2/60\n",
      "469/469 [==============================] - 262s 559ms/step - loss: 0.4380 - accuracy: 0.8443 - val_loss: 0.4141 - val_accuracy: 0.8508\n",
      "Epoch 3/60\n",
      "469/469 [==============================] - 272s 579ms/step - loss: 0.4305 - accuracy: 0.8504 - val_loss: 0.3896 - val_accuracy: 0.8657\n",
      "Epoch 4/60\n",
      "469/469 [==============================] - 286s 610ms/step - loss: 0.4212 - accuracy: 0.8511 - val_loss: 0.3783 - val_accuracy: 0.8655\n",
      "Epoch 5/60\n",
      "469/469 [==============================] - 258s 549ms/step - loss: 0.4234 - accuracy: 0.8513 - val_loss: 0.4107 - val_accuracy: 0.8613\n",
      "Epoch 6/60\n",
      "469/469 [==============================] - 244s 520ms/step - loss: 0.4180 - accuracy: 0.8524 - val_loss: 0.3825 - val_accuracy: 0.8669\n",
      "Epoch 7/60\n",
      "469/469 [==============================] - 253s 540ms/step - loss: 0.4122 - accuracy: 0.8554 - val_loss: 0.3960 - val_accuracy: 0.8654\n",
      "Epoch 8/60\n",
      "469/469 [==============================] - 247s 526ms/step - loss: 0.4122 - accuracy: 0.8566 - val_loss: 0.3743 - val_accuracy: 0.8664\n",
      "Epoch 9/60\n",
      "469/469 [==============================] - 229s 489ms/step - loss: 0.4086 - accuracy: 0.8571 - val_loss: 0.3960 - val_accuracy: 0.8657\n",
      "Epoch 10/60\n",
      "469/469 [==============================] - 226s 483ms/step - loss: 0.3991 - accuracy: 0.8593 - val_loss: 0.3914 - val_accuracy: 0.8645\n",
      "Epoch 11/60\n",
      "469/469 [==============================] - 230s 490ms/step - loss: 0.3983 - accuracy: 0.8593 - val_loss: 0.3651 - val_accuracy: 0.8641\n",
      "Epoch 12/60\n",
      "469/469 [==============================] - 225s 480ms/step - loss: 0.3963 - accuracy: 0.8620 - val_loss: 0.3943 - val_accuracy: 0.8612\n",
      "Epoch 13/60\n",
      "469/469 [==============================] - 228s 487ms/step - loss: 0.3865 - accuracy: 0.8628 - val_loss: 0.3734 - val_accuracy: 0.8652\n",
      "Epoch 14/60\n",
      "469/469 [==============================] - 228s 486ms/step - loss: 0.3946 - accuracy: 0.8628 - val_loss: 0.3864 - val_accuracy: 0.8662\n",
      "Epoch 15/60\n",
      "469/469 [==============================] - 231s 493ms/step - loss: 0.3926 - accuracy: 0.8622 - val_loss: 0.3848 - val_accuracy: 0.8670\n",
      "Epoch 16/60\n",
      "469/469 [==============================] - 231s 493ms/step - loss: 0.3951 - accuracy: 0.8623 - val_loss: 0.4017 - val_accuracy: 0.8642\n",
      "Epoch 17/60\n",
      "469/469 [==============================] - 233s 498ms/step - loss: 0.3915 - accuracy: 0.8633 - val_loss: 0.3738 - val_accuracy: 0.8676\n",
      "Epoch 18/60\n",
      "469/469 [==============================] - 227s 483ms/step - loss: 0.3857 - accuracy: 0.8663 - val_loss: 0.3922 - val_accuracy: 0.8655\n",
      "Epoch 19/60\n",
      "469/469 [==============================] - 226s 482ms/step - loss: 0.3844 - accuracy: 0.8657 - val_loss: 0.3746 - val_accuracy: 0.8645\n",
      "Epoch 20/60\n",
      "469/469 [==============================] - 226s 482ms/step - loss: 0.3857 - accuracy: 0.8632 - val_loss: 0.3819 - val_accuracy: 0.8713\n",
      "Epoch 21/60\n",
      "469/469 [==============================] - 224s 477ms/step - loss: 0.3848 - accuracy: 0.8658 - val_loss: 0.3936 - val_accuracy: 0.8680\n",
      "Epoch 22/60\n",
      "469/469 [==============================] - 226s 482ms/step - loss: 0.3830 - accuracy: 0.8645 - val_loss: 0.3855 - val_accuracy: 0.8604\n",
      "Epoch 23/60\n",
      "469/469 [==============================] - 231s 493ms/step - loss: 0.3838 - accuracy: 0.8643 - val_loss: 0.3827 - val_accuracy: 0.8727\n",
      "Epoch 24/60\n",
      "469/469 [==============================] - 238s 508ms/step - loss: 0.3839 - accuracy: 0.8651 - val_loss: 0.3820 - val_accuracy: 0.8748\n",
      "Epoch 25/60\n",
      "469/469 [==============================] - 232s 496ms/step - loss: 0.3838 - accuracy: 0.8682 - val_loss: 0.3827 - val_accuracy: 0.8704\n",
      "Epoch 26/60\n",
      "469/469 [==============================] - 231s 493ms/step - loss: 0.3801 - accuracy: 0.8669 - val_loss: 0.3802 - val_accuracy: 0.8678\n",
      "Epoch 27/60\n",
      "469/469 [==============================] - 229s 489ms/step - loss: 0.3814 - accuracy: 0.8680 - val_loss: 0.3788 - val_accuracy: 0.8692\n",
      "Epoch 28/60\n",
      "469/469 [==============================] - 239s 509ms/step - loss: 0.3812 - accuracy: 0.8656 - val_loss: 0.3692 - val_accuracy: 0.8677\n",
      "Epoch 29/60\n",
      "469/469 [==============================] - 232s 494ms/step - loss: 0.3770 - accuracy: 0.8695 - val_loss: 0.3731 - val_accuracy: 0.8708\n",
      "Epoch 30/60\n",
      "469/469 [==============================] - 226s 481ms/step - loss: 0.3782 - accuracy: 0.8683 - val_loss: 0.3811 - val_accuracy: 0.8737\n",
      "Epoch 31/60\n",
      "469/469 [==============================] - 237s 506ms/step - loss: 0.3730 - accuracy: 0.8719 - val_loss: 0.3958 - val_accuracy: 0.8668\n",
      "Epoch 32/60\n",
      "469/469 [==============================] - 248s 529ms/step - loss: 0.3774 - accuracy: 0.8686 - val_loss: 0.3749 - val_accuracy: 0.8675\n",
      "Epoch 33/60\n",
      "469/469 [==============================] - 237s 506ms/step - loss: 0.3799 - accuracy: 0.8688 - val_loss: 0.3779 - val_accuracy: 0.8724\n",
      "Epoch 34/60\n",
      "469/469 [==============================] - 240s 512ms/step - loss: 0.3698 - accuracy: 0.8697 - val_loss: 0.3788 - val_accuracy: 0.8725\n",
      "Epoch 35/60\n",
      "469/469 [==============================] - 234s 498ms/step - loss: 0.3721 - accuracy: 0.8704 - val_loss: 0.3756 - val_accuracy: 0.8713\n",
      "Epoch 36/60\n",
      "469/469 [==============================] - 233s 498ms/step - loss: 0.3695 - accuracy: 0.8712 - val_loss: 0.3835 - val_accuracy: 0.8660\n",
      "Epoch 37/60\n",
      "469/469 [==============================] - 236s 503ms/step - loss: 0.3744 - accuracy: 0.8710 - val_loss: 0.3822 - val_accuracy: 0.8767\n",
      "Epoch 38/60\n",
      "469/469 [==============================] - 232s 495ms/step - loss: 0.3716 - accuracy: 0.8698 - val_loss: 0.3831 - val_accuracy: 0.8738\n",
      "Epoch 39/60\n",
      "469/469 [==============================] - 232s 495ms/step - loss: 0.3639 - accuracy: 0.8725 - val_loss: 0.3901 - val_accuracy: 0.8751\n",
      "Epoch 40/60\n",
      "469/469 [==============================] - 231s 492ms/step - loss: 0.3658 - accuracy: 0.8715 - val_loss: 0.3730 - val_accuracy: 0.8740\n",
      "Epoch 41/60\n",
      "469/469 [==============================] - 230s 490ms/step - loss: 0.3664 - accuracy: 0.8747 - val_loss: 0.4031 - val_accuracy: 0.8729\n",
      "Epoch 42/60\n",
      "469/469 [==============================] - 234s 499ms/step - loss: 0.3722 - accuracy: 0.8705 - val_loss: 0.3778 - val_accuracy: 0.8676\n",
      "Epoch 43/60\n",
      "469/469 [==============================] - 230s 490ms/step - loss: 0.3770 - accuracy: 0.8713 - val_loss: 0.3748 - val_accuracy: 0.8776\n",
      "Epoch 44/60\n",
      "469/469 [==============================] - 231s 493ms/step - loss: 0.3684 - accuracy: 0.8717 - val_loss: 0.3692 - val_accuracy: 0.8758\n",
      "Epoch 45/60\n",
      "469/469 [==============================] - 230s 491ms/step - loss: 0.3695 - accuracy: 0.8721 - val_loss: 0.3777 - val_accuracy: 0.8739\n",
      "Epoch 46/60\n",
      " 80/469 [====>.........................] - ETA: 2:53 - loss: 0.3578 - accuracy: 0.8762"
     ]
    }
   ],
   "source": [
    "history=network.fit(train_images,train_labels,validation_data=(test_images,test_labels),epochs=60,batch_size=128)\n",
    "from keras.utils.vis_utils import plot_model\n",
    "train_acc=history.history['accuracy']\n",
    "val_acc=history.history['val_accuracy']\n",
    "\n",
    "import matplotlib.pyplot as plt\n",
    "plt.plot(train_acc,label='training accuracy')\n",
    "plt.plot(val_acc,label='Validation accuracy')\n",
    "plt.xlabel('Epoch')\n",
    "plt.ylabel('Accuracy')\n",
    "plt.legend()\n",
    "plt.show()\n"
   ]
  },
  {
   "cell_type": "code",
   "execution_count": null,
   "id": "f550bd49",
   "metadata": {},
   "outputs": [],
   "source": [
    "\n",
    "\n",
    "\n"
   ]
  }
 ],
 "metadata": {
  "kernelspec": {
   "display_name": "Python 3 (ipykernel)",
   "language": "python",
   "name": "python3"
  },
  "language_info": {
   "codemirror_mode": {
    "name": "ipython",
    "version": 3
   },
   "file_extension": ".py",
   "mimetype": "text/x-python",
   "name": "python",
   "nbconvert_exporter": "python",
   "pygments_lexer": "ipython3",
   "version": "3.9.12"
  }
 },
 "nbformat": 4,
 "nbformat_minor": 5
}
